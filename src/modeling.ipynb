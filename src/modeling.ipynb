{
 "cells": [
  {
   "cell_type": "code",
   "execution_count": 12,
   "metadata": {},
   "outputs": [],
   "source": [
    "# Data handling\n",
    "import numpy as np\n",
    "import pandas as pd\n",
    "\n",
    "# For visualization\n",
    "import altair as alt\n",
    "\n",
    "# Feature Selection\n",
    "from sklearn.feature_selection import RFE\n",
    "\n",
    "# Models\n",
    "from sklearn import tree \n",
    "from sklearn.ensemble import RandomForestClassifier\n",
    "from sklearn.ensemble import VotingClassifier, AdaBoostClassifier, GradientBoostingClassifier\n",
    "from sklearn.tree import DecisionTreeClassifier\n",
    "from sklearn.linear_model import LogisticRegression\n",
    "from sklearn.svm import SVC\n",
    "from sklearn.neighbors import KNeighborsClassifier\n",
    "\n",
    "# Split\n",
    "from sklearn.model_selection import train_test_split"
   ]
  },
  {
   "cell_type": "markdown",
   "metadata": {},
   "source": [
    "# Data"
   ]
  },
  {
   "cell_type": "code",
   "execution_count": 29,
   "metadata": {},
   "outputs": [],
   "source": [
    "# Training data\n",
    "train = pd.read_csv(\"../data/processed_data/home_train.csv\") \n",
    "X = train.drop(columns = ['CLAIM', 'Unnamed: 0'])\n",
    "y = train['CLAIM']\n",
    "\n",
    "# Splitting the data\n",
    "X_train, X_valid, y_train, y_valid = train_test_split(X, y, test_size=0.20, random_state=1234)"
   ]
  },
  {
   "cell_type": "code",
   "execution_count": 30,
   "metadata": {},
   "outputs": [
    {
     "name": "stdout",
     "output_type": "stream",
     "text": [
      "X train shape: (74009, 5)\n",
      "X valid shape: (18503, 5)\n",
      "y train shape: (74009,)\n",
      "y valid shape: (18503,)\n"
     ]
    }
   ],
   "source": [
    "print(f\"X train shape: {X_train.shape}\")\n",
    "print(f\"X valid shape: {X_valid.shape}\")\n",
    "print(f\"y train shape: {y_train.shape}\")\n",
    "print(f\"y valid shape: {y_valid.shape}\")"
   ]
  },
  {
   "cell_type": "markdown",
   "metadata": {},
   "source": [
    "# Feature selection"
   ]
  },
  {
   "cell_type": "markdown",
   "metadata": {},
   "source": [
    "In this section I will select the features"
   ]
  },
  {
   "cell_type": "code",
   "execution_count": 31,
   "metadata": {},
   "outputs": [],
   "source": [
    "def fit_and_report(model, X, y, Xv, yv, mode = 'regression'):\n",
    "    \"\"\"\n",
    "    Fits a given model and calculates its score in the training and the validation set.\n",
    "    ----------------------------------------------------\n",
    "    \n",
    "    Paramaters:\n",
    "    ----------------------------------------------------\n",
    "    model: model to fit\n",
    "    X: Training X matrix\n",
    "    y: Training response vector\n",
    "    Xv: Validation X matrix\n",
    "    yv: Validation response vector\n",
    "    mode: Type of estimation classification and\n",
    "    \n",
    "    Returns:\n",
    "    ---------------------------------------------------\n",
    "    errors: list with the training and validation error\n",
    "    \n",
    "    Example:\n",
    "    --------------------------------------------------\n",
    "    fit_and_report(LogisticRegression(), X, y, Xv, yv, mode = 'classification')\n",
    "    \"\"\"\n",
    "    model.fit(X, y)\n",
    "    if mode.lower().startswith('regress'):\n",
    "        errors = [mean_squared_error(y, model.predict(X)), mean_squared_error(yv, model.predict(Xv))]\n",
    "    if mode.lower().startswith('classif'):\n",
    "        errors = [1 - model.score(X,y), 1 - model.score(Xv,yv)]        \n",
    "    return errors"
   ]
  },
  {
   "cell_type": "code",
   "execution_count": 37,
   "metadata": {},
   "outputs": [
    {
     "name": "stdout",
     "output_type": "stream",
     "text": [
      "[ True False False False False]\n"
     ]
    },
    {
     "ename": "ValueError",
     "evalue": "Item wrong length 5 instead of 74009.",
     "output_type": "error",
     "traceback": [
      "\u001b[1;31m---------------------------------------------------------------------------\u001b[0m",
      "\u001b[1;31mValueError\u001b[0m                                Traceback (most recent call last)",
      "\u001b[1;32m<ipython-input-37-2fa1708bde4d>\u001b[0m in \u001b[0;36m<module>\u001b[1;34m\u001b[0m\n\u001b[0;32m     13\u001b[0m     \u001b[0mprint\u001b[0m\u001b[1;33m(\u001b[0m\u001b[0mselected_features\u001b[0m\u001b[1;33m)\u001b[0m\u001b[1;33m\u001b[0m\u001b[1;33m\u001b[0m\u001b[0m\n\u001b[0;32m     14\u001b[0m     scores = fit_and_report(lr, \n\u001b[1;32m---> 15\u001b[1;33m                             \u001b[0mX_train\u001b[0m\u001b[1;33m[\u001b[0m\u001b[0mselected_features\u001b[0m\u001b[1;33m]\u001b[0m\u001b[1;33m,\u001b[0m\u001b[1;33m\u001b[0m\u001b[1;33m\u001b[0m\u001b[0m\n\u001b[0m\u001b[0;32m     16\u001b[0m                             \u001b[0my_train\u001b[0m\u001b[1;33m,\u001b[0m\u001b[1;33m\u001b[0m\u001b[1;33m\u001b[0m\u001b[0m\n\u001b[0;32m     17\u001b[0m                             \u001b[0mX_valid\u001b[0m\u001b[1;33m[\u001b[0m\u001b[0mselected_features\u001b[0m\u001b[1;33m]\u001b[0m\u001b[1;33m,\u001b[0m\u001b[1;33m\u001b[0m\u001b[1;33m\u001b[0m\u001b[0m\n",
      "\u001b[1;32m~\\Anaconda3\\lib\\site-packages\\pandas\\core\\frame.py\u001b[0m in \u001b[0;36m__getitem__\u001b[1;34m(self, key)\u001b[0m\n\u001b[0;32m   2789\u001b[0m         \u001b[1;31m# Do we have a (boolean) 1d indexer?\u001b[0m\u001b[1;33m\u001b[0m\u001b[1;33m\u001b[0m\u001b[1;33m\u001b[0m\u001b[0m\n\u001b[0;32m   2790\u001b[0m         \u001b[1;32mif\u001b[0m \u001b[0mcom\u001b[0m\u001b[1;33m.\u001b[0m\u001b[0mis_bool_indexer\u001b[0m\u001b[1;33m(\u001b[0m\u001b[0mkey\u001b[0m\u001b[1;33m)\u001b[0m\u001b[1;33m:\u001b[0m\u001b[1;33m\u001b[0m\u001b[1;33m\u001b[0m\u001b[0m\n\u001b[1;32m-> 2791\u001b[1;33m             \u001b[1;32mreturn\u001b[0m \u001b[0mself\u001b[0m\u001b[1;33m.\u001b[0m\u001b[0m_getitem_bool_array\u001b[0m\u001b[1;33m(\u001b[0m\u001b[0mkey\u001b[0m\u001b[1;33m)\u001b[0m\u001b[1;33m\u001b[0m\u001b[1;33m\u001b[0m\u001b[0m\n\u001b[0m\u001b[0;32m   2792\u001b[0m \u001b[1;33m\u001b[0m\u001b[0m\n\u001b[0;32m   2793\u001b[0m         \u001b[1;31m# We are left with two options: a single key, and a collection of keys,\u001b[0m\u001b[1;33m\u001b[0m\u001b[1;33m\u001b[0m\u001b[1;33m\u001b[0m\u001b[0m\n",
      "\u001b[1;32m~\\Anaconda3\\lib\\site-packages\\pandas\\core\\frame.py\u001b[0m in \u001b[0;36m_getitem_bool_array\u001b[1;34m(self, key)\u001b[0m\n\u001b[0;32m   2836\u001b[0m         \u001b[1;32melif\u001b[0m \u001b[0mlen\u001b[0m\u001b[1;33m(\u001b[0m\u001b[0mkey\u001b[0m\u001b[1;33m)\u001b[0m \u001b[1;33m!=\u001b[0m \u001b[0mlen\u001b[0m\u001b[1;33m(\u001b[0m\u001b[0mself\u001b[0m\u001b[1;33m.\u001b[0m\u001b[0mindex\u001b[0m\u001b[1;33m)\u001b[0m\u001b[1;33m:\u001b[0m\u001b[1;33m\u001b[0m\u001b[1;33m\u001b[0m\u001b[0m\n\u001b[0;32m   2837\u001b[0m             raise ValueError(\n\u001b[1;32m-> 2838\u001b[1;33m                 \u001b[1;34mf\"Item wrong length {len(key)} instead of {len(self.index)}.\"\u001b[0m\u001b[1;33m\u001b[0m\u001b[1;33m\u001b[0m\u001b[0m\n\u001b[0m\u001b[0;32m   2839\u001b[0m             )\n\u001b[0;32m   2840\u001b[0m \u001b[1;33m\u001b[0m\u001b[0m\n",
      "\u001b[1;31mValueError\u001b[0m: Item wrong length 5 instead of 74009."
     ]
    }
   ],
   "source": [
    "n_features = 3\n",
    "results = {'Stage':[],\n",
    "           'N_features':[],\n",
    "           'Score':[]}\n",
    "\n",
    "for i in range(1, n_features + 1):\n",
    "    \n",
    "    lr = LogisticRegression()\n",
    "    rfe = RFE(estimator = lr, n_features_to_select = i)\n",
    "    rfe.fit(X_train, y_train)\n",
    "    \n",
    "    selected_features = rfe.support_\n",
    "    print(selected_features)\n",
    "    scores = fit_and_report(lr, \n",
    "                            X_train[selected_features], \n",
    "                            y_train, \n",
    "                            X_valid[selected_features], \n",
    "                            y_valid,\n",
    "                            mode=\"classification\")\n",
    "    \n",
    "    results['Stage'].append('Train')\n",
    "    results['N_features'].append(i)\n",
    "    results['Score'].append(scores[0])\n",
    "    results['Stage'].append('Validation')\n",
    "    results['N_features'].append(i)\n",
    "    results['Score'].append(scores[1])"
   ]
  },
  {
   "cell_type": "code",
   "execution_count": 36,
   "metadata": {},
   "outputs": [
    {
     "data": {
      "text/html": [
       "<div>\n",
       "<style scoped>\n",
       "    .dataframe tbody tr th:only-of-type {\n",
       "        vertical-align: middle;\n",
       "    }\n",
       "\n",
       "    .dataframe tbody tr th {\n",
       "        vertical-align: top;\n",
       "    }\n",
       "\n",
       "    .dataframe thead th {\n",
       "        text-align: right;\n",
       "    }\n",
       "</style>\n",
       "<table border=\"1\" class=\"dataframe\">\n",
       "  <thead>\n",
       "    <tr style=\"text-align: right;\">\n",
       "      <th></th>\n",
       "      <th>SUM_INSURED_BUILDINGS</th>\n",
       "      <th>SUM_INSURED_CONTENTS</th>\n",
       "      <th>BUS_USE_Y</th>\n",
       "      <th>CLERICAL_N</th>\n",
       "      <th>CLERICAL_Y</th>\n",
       "    </tr>\n",
       "  </thead>\n",
       "  <tbody>\n",
       "    <tr>\n",
       "      <th>51258</th>\n",
       "      <td>0.586421</td>\n",
       "      <td>-4.618236</td>\n",
       "      <td>0.0</td>\n",
       "      <td>0.0</td>\n",
       "      <td>0.0</td>\n",
       "    </tr>\n",
       "    <tr>\n",
       "      <th>37319</th>\n",
       "      <td>0.586421</td>\n",
       "      <td>0.197910</td>\n",
       "      <td>0.0</td>\n",
       "      <td>0.0</td>\n",
       "      <td>0.0</td>\n",
       "    </tr>\n",
       "    <tr>\n",
       "      <th>90024</th>\n",
       "      <td>0.586421</td>\n",
       "      <td>0.197910</td>\n",
       "      <td>0.0</td>\n",
       "      <td>0.0</td>\n",
       "      <td>0.0</td>\n",
       "    </tr>\n",
       "    <tr>\n",
       "      <th>90976</th>\n",
       "      <td>-1.705260</td>\n",
       "      <td>0.197910</td>\n",
       "      <td>0.0</td>\n",
       "      <td>0.0</td>\n",
       "      <td>0.0</td>\n",
       "    </tr>\n",
       "    <tr>\n",
       "      <th>40715</th>\n",
       "      <td>0.586421</td>\n",
       "      <td>0.197910</td>\n",
       "      <td>0.0</td>\n",
       "      <td>0.0</td>\n",
       "      <td>0.0</td>\n",
       "    </tr>\n",
       "    <tr>\n",
       "      <th>...</th>\n",
       "      <td>...</td>\n",
       "      <td>...</td>\n",
       "      <td>...</td>\n",
       "      <td>...</td>\n",
       "      <td>...</td>\n",
       "    </tr>\n",
       "    <tr>\n",
       "      <th>82584</th>\n",
       "      <td>0.586421</td>\n",
       "      <td>-4.618236</td>\n",
       "      <td>0.0</td>\n",
       "      <td>0.0</td>\n",
       "      <td>0.0</td>\n",
       "    </tr>\n",
       "    <tr>\n",
       "      <th>89460</th>\n",
       "      <td>0.586421</td>\n",
       "      <td>0.197910</td>\n",
       "      <td>0.0</td>\n",
       "      <td>0.0</td>\n",
       "      <td>0.0</td>\n",
       "    </tr>\n",
       "    <tr>\n",
       "      <th>60620</th>\n",
       "      <td>0.586421</td>\n",
       "      <td>0.197910</td>\n",
       "      <td>0.0</td>\n",
       "      <td>0.0</td>\n",
       "      <td>0.0</td>\n",
       "    </tr>\n",
       "    <tr>\n",
       "      <th>34086</th>\n",
       "      <td>0.586421</td>\n",
       "      <td>0.197910</td>\n",
       "      <td>1.0</td>\n",
       "      <td>0.0</td>\n",
       "      <td>1.0</td>\n",
       "    </tr>\n",
       "    <tr>\n",
       "      <th>58067</th>\n",
       "      <td>0.586421</td>\n",
       "      <td>0.197910</td>\n",
       "      <td>0.0</td>\n",
       "      <td>0.0</td>\n",
       "      <td>0.0</td>\n",
       "    </tr>\n",
       "  </tbody>\n",
       "</table>\n",
       "<p>74009 rows × 5 columns</p>\n",
       "</div>"
      ],
      "text/plain": [
       "       SUM_INSURED_BUILDINGS  SUM_INSURED_CONTENTS  BUS_USE_Y  CLERICAL_N  \\\n",
       "51258               0.586421             -4.618236        0.0         0.0   \n",
       "37319               0.586421              0.197910        0.0         0.0   \n",
       "90024               0.586421              0.197910        0.0         0.0   \n",
       "90976              -1.705260              0.197910        0.0         0.0   \n",
       "40715               0.586421              0.197910        0.0         0.0   \n",
       "...                      ...                   ...        ...         ...   \n",
       "82584               0.586421             -4.618236        0.0         0.0   \n",
       "89460               0.586421              0.197910        0.0         0.0   \n",
       "60620               0.586421              0.197910        0.0         0.0   \n",
       "34086               0.586421              0.197910        1.0         0.0   \n",
       "58067               0.586421              0.197910        0.0         0.0   \n",
       "\n",
       "       CLERICAL_Y  \n",
       "51258         0.0  \n",
       "37319         0.0  \n",
       "90024         0.0  \n",
       "90976         0.0  \n",
       "40715         0.0  \n",
       "...           ...  \n",
       "82584         0.0  \n",
       "89460         0.0  \n",
       "60620         0.0  \n",
       "34086         1.0  \n",
       "58067         0.0  \n",
       "\n",
       "[74009 rows x 5 columns]"
      ]
     },
     "execution_count": 36,
     "metadata": {},
     "output_type": "execute_result"
    }
   ],
   "source": [
    "X_train"
   ]
  },
  {
   "cell_type": "code",
   "execution_count": null,
   "metadata": {},
   "outputs": [],
   "source": []
  }
 ],
 "metadata": {
  "kernelspec": {
   "display_name": "Python 3",
   "language": "python",
   "name": "python3"
  },
  "language_info": {
   "codemirror_mode": {
    "name": "ipython",
    "version": 3
   },
   "file_extension": ".py",
   "mimetype": "text/x-python",
   "name": "python",
   "nbconvert_exporter": "python",
   "pygments_lexer": "ipython3",
   "version": "3.7.6"
  }
 },
 "nbformat": 4,
 "nbformat_minor": 4
}
